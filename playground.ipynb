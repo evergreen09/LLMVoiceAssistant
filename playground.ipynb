{
 "cells": [
  {
   "cell_type": "code",
   "execution_count": 3,
   "metadata": {},
   "outputs": [],
   "source": [
    "import mlx_whisper"
   ]
  },
  {
   "cell_type": "code",
   "execution_count": 15,
   "metadata": {},
   "outputs": [],
   "source": [
    "result = mlx_whisper.transcribe('neutral_281-308_0295.wav', path_or_hf_repo='mlx-community/whisper-base-mlx')"
   ]
  },
  {
   "cell_type": "code",
   "execution_count": 6,
   "metadata": {},
   "outputs": [
    {
     "data": {
      "text/plain": [
       "' and 20 men could hold it with spears and arrows.'"
      ]
     },
     "execution_count": 6,
     "metadata": {},
     "output_type": "execute_result"
    }
   ],
   "source": [
    "result['text']"
   ]
  },
  {
   "cell_type": "code",
   "execution_count": 10,
   "metadata": {},
   "outputs": [],
   "source": [
    "biden_speech = 'biden_speech.mp3'\n",
    "\n",
    "result = mlx_whisper.transcribe(biden_speech, word_timestamps=True, path_or_hf_repo='mlx-community/whisper-base-mlx')"
   ]
  },
  {
   "cell_type": "code",
   "execution_count": 13,
   "metadata": {},
   "outputs": [
    {
     "data": {
      "text/plain": [
       "\" Presidency is the most powerful office in the world. So an office that not only tests your judgment, perhaps even more importantly, it's an office that can test your character. Because you're not only face moments when you need to curate, exercise the full power of the presidency. You also face moments where you need the wisdom to respect the limits of the power of the office of the presidency. This nation was founded on the principle that there are no kings in America. Each of us is equal before the law. No one, no one is above the law, not even the President of the United States. With today's Supreme Court decision on presidential immunity, that fundamentally changed. For all, for all practical purposes, today's decision almost certainly means that there are virtually no limits what a president can do. This is a fundamentally new principle. And it's a dangerous precedent. Because the power of the office will no longer be constrained by the law, even including the Supreme Court of the United States. The only limits will be self-imposed by the President alone. This decision today has continued the courts attacking recent years on a wide range of long established legal principles in our nation. From gutting voting rights and civil rights to taking away women's right to choose, to today's decision that undermines the rule of law of this nation. Nearly four years ago, my predecessor sent a violent mob to the U.S. Capitol to stop the peaceful transfer of power. We all saw with our own eyes. We sat there and watched it happen that day. Attack on the police. The ranch sacking at the Capitol. A mob literally hunting down the House Speaker Nancy Pelosi. Gallows erected to hang the vice president of Mike Pence. I think it's fair to say it's one of the darkest days in the history of America. Now the man who sent that mob to the U.S. Capitol is facing potential criminal conviction for what happened that day. And the American people deserve to have an answer in the courts before the upcoming election. A public has a right to know the answer about what happened on January 6th before they are asked to vote again this year. Now because of today's decision that is highly, highly unlikely. It's a terrible disservice to the people of this nation. So now, now the American people have to do what the courts should have been willing to do, but will not. The American people have to render a judgment about Donald Trump's behavior. The American people must decide whether Donald Trump will sold on our democracy on January 6th makes a month fit for public office in the highest office in the land. The American people must decide if Trump's embrace of violence to preserve his power is acceptable. Perhaps most importantly, the American people must decide. If they want to entrust the president once again the presidency to Donald Trump, now knowing he'll be more emboldened to do whatever he pleases, whatever he wants to do it. You know, at the outset of our nation, it was the character of George Washington our first president to find the presidency. He believed power was limited, not absolute, and that power always resides in the people, always. Now over 200 years later, with today's Supreme Court decision, once again, it will depend on the character of the men and women who hold that presidency that are going to define the limits of the power of the presidency because the law will no longer do it. I know I will respect the limits of the presidential powers I have for three and a half years, but any president, including Donald Trump, will not be free to ignore the law. I concur with Justice Sotomayor's dissent today. She hears what she says. She says, in every use of a physical power, the president is now a king above the law. With fear for our democracy, I dissent end of quote. So should the American people dissent. I dissent. May God bless you all, and may God help preserve our democracy. Thank you. May God protect our children. We will use our own brains to protect them. Why are we the best in the present day, Trump? One thing to be so confident you should be the president.\""
      ]
     },
     "execution_count": 13,
     "metadata": {},
     "output_type": "execute_result"
    }
   ],
   "source": [
    "result['text']"
   ]
  },
  {
   "cell_type": "code",
   "execution_count": 14,
   "metadata": {},
   "outputs": [
    {
     "data": {
      "text/plain": [
       "[{'word': ' Presidency',\n",
       "  'start': np.float64(0.0),\n",
       "  'end': np.float64(0.6),\n",
       "  'probability': np.float16(0.7495)},\n",
       " {'word': ' is',\n",
       "  'start': np.float64(0.6),\n",
       "  'end': np.float64(1.2),\n",
       "  'probability': np.float16(0.994)},\n",
       " {'word': ' the',\n",
       "  'start': np.float64(1.2),\n",
       "  'end': np.float64(1.28),\n",
       "  'probability': np.float16(0.9785)},\n",
       " {'word': ' most',\n",
       "  'start': np.float64(1.28),\n",
       "  'end': np.float64(1.42),\n",
       "  'probability': np.float16(0.9985)},\n",
       " {'word': ' powerful',\n",
       "  'start': np.float64(1.42),\n",
       "  'end': np.float64(1.92),\n",
       "  'probability': np.float16(0.9985)},\n",
       " {'word': ' office',\n",
       "  'start': np.float64(1.92),\n",
       "  'end': np.float64(2.52),\n",
       "  'probability': np.float16(0.963)},\n",
       " {'word': ' in',\n",
       "  'start': np.float64(2.52),\n",
       "  'end': np.float64(2.74),\n",
       "  'probability': np.float16(0.843)},\n",
       " {'word': ' the',\n",
       "  'start': np.float64(2.74),\n",
       "  'end': np.float64(2.84),\n",
       "  'probability': np.float16(0.9995)},\n",
       " {'word': ' world.',\n",
       "  'start': np.float64(2.84),\n",
       "  'end': np.float64(3.24),\n",
       "  'probability': np.float16(0.9995)}]"
      ]
     },
     "execution_count": 14,
     "metadata": {},
     "output_type": "execute_result"
    }
   ],
   "source": [
    "result['segments'][0]['words']"
   ]
  },
  {
   "cell_type": "code",
   "execution_count": null,
   "metadata": {},
   "outputs": [],
   "source": []
  }
 ],
 "metadata": {
  "kernelspec": {
   "display_name": "mlx",
   "language": "python",
   "name": "python3"
  },
  "language_info": {
   "codemirror_mode": {
    "name": "ipython",
    "version": 3
   },
   "file_extension": ".py",
   "mimetype": "text/x-python",
   "name": "python",
   "nbconvert_exporter": "python",
   "pygments_lexer": "ipython3",
   "version": "3.1.undefined"
  }
 },
 "nbformat": 4,
 "nbformat_minor": 2
}
